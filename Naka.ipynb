{
 "cells": [
  {
   "cell_type": "code",
   "execution_count": 3,
   "id": "355e4f35",
   "metadata": {},
   "outputs": [],
   "source": [
    "import qrcode\n",
    "import pyautogui as pg\n",
    "from PIL import ImageGrab\n",
    "from openpyxl import Workbook\n",
    "import pandas as pd\n",
    "import xlsxwriter\n",
    "\n",
    "lista_cod = []\n",
    "\n",
    "def abrir_excel():\n",
    "    df = pd.read_excel('Códigos.xlsx', index_col=None, header=None)\n",
    "    mylist = df[0].tolist()\n",
    "    for cod in mylist:\n",
    "        if str(cod) != 'nan':\n",
    "            lista_cod.append(cod)\n",
    "    \n",
    "       \n",
    "abrir_excel()\n",
    "\n",
    "def gerar_arquivo():\n",
    "    i = 0\n",
    "    workbook = xlsxwriter.Workbook('QrCode.xlsx')\n",
    "    worksheet = workbook.add_worksheet()\n",
    "    worksheet.write('A1', 'código')\n",
    "    worksheet.write('B1', 'QrCode')\n",
    "    \n",
    "    while i < len(lista_cod):\n",
    "        \n",
    "        gerar_codigo(lista_cod[i])\n",
    "        worksheet.write('A'+str(i+2), lista_cod[i])\n",
    "        worksheet.insert_image('B'+str(i+2), lista_cod[i]+'.png')    \n",
    "        i += 1\n",
    "    workbook.close()  \n",
    "    \n",
    "\n",
    "def gerar_codigo(codigo):\n",
    "    qr = qrcode.QRCode(\n",
    "        version=1,\n",
    "        error_correction=qrcode.constants.ERROR_CORRECT_H,\n",
    "        box_size=2,\n",
    "        border=4,\n",
    "    )\n",
    "    qr.add_data(codigo)\n",
    "    qr.make(fit=True)\n",
    "    img = qr.make_image(fill_color=\"black\", back_color=\"white\")\n",
    "    img.save(str(codigo)+'.png')\n",
    "\n",
    "    \n",
    "    \n",
    "gerar_arquivo()\n",
    "    "
   ]
  },
  {
   "cell_type": "code",
   "execution_count": 72,
   "id": "82332083",
   "metadata": {},
   "outputs": [
    {
     "ename": "SyntaxError",
     "evalue": "invalid syntax (Temp/ipykernel_6068/825707700.py, line 1)",
     "output_type": "error",
     "traceback": [
      "\u001b[1;36m  File \u001b[1;32m\"D:\\Users\\83314806\\AppData\\Local\\Temp/ipykernel_6068/825707700.py\"\u001b[1;36m, line \u001b[1;32m1\u001b[0m\n\u001b[1;33m    jupyter nbconvert --fo script Naka.ipynb\u001b[0m\n\u001b[1;37m            ^\u001b[0m\n\u001b[1;31mSyntaxError\u001b[0m\u001b[1;31m:\u001b[0m invalid syntax\n"
     ]
    }
   ],
   "source": []
  },
  {
   "cell_type": "code",
   "execution_count": 5,
   "id": "065e1547",
   "metadata": {},
   "outputs": [
    {
     "ename": "SyntaxError",
     "evalue": "invalid syntax (Temp/ipykernel_10416/4262822567.py, line 1)",
     "output_type": "error",
     "traceback": [
      "\u001b[1;36m  File \u001b[1;32m\"D:\\Users\\83314806\\AppData\\Local\\Temp/ipykernel_10416/4262822567.py\"\u001b[1;36m, line \u001b[1;32m1\u001b[0m\n\u001b[1;33m    pyinstaller --onefile 123teste.py\u001b[0m\n\u001b[1;37m                          ^\u001b[0m\n\u001b[1;31mSyntaxError\u001b[0m\u001b[1;31m:\u001b[0m invalid syntax\n"
     ]
    }
   ],
   "source": [
    "pyinstaller --onefile 123teste.py"
   ]
  },
  {
   "cell_type": "code",
   "execution_count": null,
   "id": "f6566f66",
   "metadata": {},
   "outputs": [],
   "source": []
  }
 ],
 "metadata": {
  "kernelspec": {
   "display_name": "Python 3 (ipykernel)",
   "language": "python",
   "name": "python3"
  },
  "language_info": {
   "codemirror_mode": {
    "name": "ipython",
    "version": 3
   },
   "file_extension": ".py",
   "mimetype": "text/x-python",
   "name": "python",
   "nbconvert_exporter": "python",
   "pygments_lexer": "ipython3",
   "version": "3.8.11"
  }
 },
 "nbformat": 4,
 "nbformat_minor": 5
}
